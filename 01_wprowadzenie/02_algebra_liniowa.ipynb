{
  "nbformat": 4,
  "nbformat_minor": 0,
  "metadata": {
    "colab": {
      "name": "02_algebra_liniowa.ipynb",
      "provenance": [],
      "collapsed_sections": [],
      "authorship_tag": "ABX9TyMCpIvPp2IO7HsO18ykuE1y",
      "include_colab_link": true
    },
    "kernelspec": {
      "name": "python3",
      "display_name": "Python 3"
    },
    "language_info": {
      "name": "python"
    }
  },
  "cells": [
    {
      "cell_type": "markdown",
      "metadata": {
        "id": "view-in-github",
        "colab_type": "text"
      },
      "source": [
        "<a href=\"https://colab.research.google.com/github/migaczdawid/data-science-bootcamp/blob/main/01_wprowadzenie/02_algebra_liniowa.ipynb\" target=\"_parent\"><img src=\"https://colab.research.google.com/assets/colab-badge.svg\" alt=\"Open In Colab\"/></a>"
      ]
    },
    {
      "cell_type": "code",
      "source": [
        "import numpy as np"
      ],
      "metadata": {
        "id": "yjGeWCEhSUAm"
      },
      "execution_count": 1,
      "outputs": []
    },
    {
      "cell_type": "markdown",
      "source": [
        "![image.png](data:image/png;base64,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)"
      ],
      "metadata": {
        "id": "EAwzUNdzTR9C"
      }
    },
    {
      "cell_type": "code",
      "execution_count": null,
      "metadata": {
        "colab": {
          "base_uri": "https://localhost:8080/"
        },
        "id": "ewprZzAdRG5b",
        "outputId": "58b2ce2a-4f3b-41d6-d4fe-6267d3189cae"
      },
      "outputs": [
        {
          "output_type": "execute_result",
          "data": {
            "text/plain": [
              "array([3, 5])"
            ]
          },
          "metadata": {},
          "execution_count": 11
        }
      ],
      "source": [
        "# Tworzymy wektor\n",
        "v1 = np.array([3,5])\n",
        "v1"
      ]
    },
    {
      "cell_type": "code",
      "source": [
        "np.linalg.norm(v1)"
      ],
      "metadata": {
        "colab": {
          "base_uri": "https://localhost:8080/"
        },
        "id": "HeDwzUHgSX-m",
        "outputId": "13859f08-b133-4df5-a899-c1195f707d34"
      },
      "execution_count": null,
      "outputs": [
        {
          "output_type": "execute_result",
          "data": {
            "text/plain": [
              "5.830951894845301"
            ]
          },
          "metadata": {},
          "execution_count": 12
        }
      ]
    },
    {
      "cell_type": "markdown",
      "source": [
        "![image.png](data:image/png;base64,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)"
      ],
      "metadata": {
        "id": "Cm5RM_OcTjom"
      }
    },
    {
      "cell_type": "code",
      "source": [
        "v2 = np.array([-10, 10, 13])\n",
        "np.linalg.norm(v2)"
      ],
      "metadata": {
        "colab": {
          "base_uri": "https://localhost:8080/"
        },
        "id": "w1-98UPiTSO2",
        "outputId": "61bf621c-adcc-4f3d-da74-7ddbd1adbd47"
      },
      "execution_count": null,
      "outputs": [
        {
          "output_type": "execute_result",
          "data": {
            "text/plain": [
              "19.209372712298546"
            ]
          },
          "metadata": {},
          "execution_count": 13
        }
      ]
    },
    {
      "cell_type": "markdown",
      "source": [
        "Odległość dwóch punktów w płaszczyźnie czyli długość wektora"
      ],
      "metadata": {
        "id": "cV9tZSZeZyTS"
      }
    },
    {
      "cell_type": "code",
      "source": [
        "p = np.array([3,0,1])\n",
        "q = np.array([0,4,2])\n",
        "np.linalg.norm(p-q)"
      ],
      "metadata": {
        "colab": {
          "base_uri": "https://localhost:8080/"
        },
        "id": "PWVYVoNRZ1qt",
        "outputId": "1e339fb2-5497-4bfd-9fd1-bae25618d3e4"
      },
      "execution_count": 5,
      "outputs": [
        {
          "output_type": "execute_result",
          "data": {
            "text/plain": [
              "5.0990195135927845"
            ]
          },
          "metadata": {},
          "execution_count": 5
        }
      ]
    },
    {
      "cell_type": "markdown",
      "source": [
        "Odległość dwóch punktów w przestrzeni"
      ],
      "metadata": {
        "id": "OEca94chabF4"
      }
    },
    {
      "cell_type": "code",
      "source": [
        "p = np.array([3,0])\n",
        "q = np.array([0,4])\n"
      ],
      "metadata": {
        "id": "4P4CafvfaRi6"
      },
      "execution_count": null,
      "outputs": []
    },
    {
      "cell_type": "markdown",
      "source": [
        "Mnożenie macierzy"
      ],
      "metadata": {
        "id": "cl0I5c7PfWYM"
      }
    },
    {
      "cell_type": "code",
      "source": [
        "X = np.array([[5, 3], [3, 9]])\n",
        "Y = np.array([[1], [-1]])\n",
        "print(X, '\\n')\n",
        "print(Y)"
      ],
      "metadata": {
        "colab": {
          "base_uri": "https://localhost:8080/"
        },
        "id": "44xcFujbfX7Q",
        "outputId": "b67117a7-8aab-4922-d64d-0bd4664ce5c8"
      },
      "execution_count": 6,
      "outputs": [
        {
          "output_type": "stream",
          "name": "stdout",
          "text": [
            "[[5 3]\n",
            " [3 9]] \n",
            "\n",
            "[[ 1]\n",
            " [-1]]\n"
          ]
        }
      ]
    },
    {
      "cell_type": "code",
      "source": [
        "Z = np.dot(X,Y)\n",
        "print(Z)"
      ],
      "metadata": {
        "colab": {
          "base_uri": "https://localhost:8080/"
        },
        "id": "blBKgtPJfab9",
        "outputId": "fad8e65d-cf76-466e-c79d-1b479a52dcfc"
      },
      "execution_count": 8,
      "outputs": [
        {
          "output_type": "stream",
          "name": "stdout",
          "text": [
            "[[ 2]\n",
            " [-6]]\n"
          ]
        }
      ]
    },
    {
      "cell_type": "code",
      "source": [
        "Z.shape"
      ],
      "metadata": {
        "colab": {
          "base_uri": "https://localhost:8080/"
        },
        "id": "2jUlKtSpfmsQ",
        "outputId": "fbc1f4ef-0a44-4145-b250-31b1ef6a34af"
      },
      "execution_count": 10,
      "outputs": [
        {
          "output_type": "execute_result",
          "data": {
            "text/plain": [
              "(2, 1)"
            ]
          },
          "metadata": {},
          "execution_count": 10
        }
      ]
    },
    {
      "cell_type": "code",
      "source": [
        "X = np.array([[2, -1, 3],\n",
        "              [3, 1, 0]])\n",
        "Y = np.array([[2, 1, -1],\n",
        "              [0, -1, 2],\n",
        "              [3, 2, 0]])\n",
        "\n",
        "print(X, '\\n')\n",
        "print(Y)"
      ],
      "metadata": {
        "colab": {
          "base_uri": "https://localhost:8080/"
        },
        "id": "h0MnGSM5f_WE",
        "outputId": "91b6924b-a366-4e77-fe97-0c968de18d94"
      },
      "execution_count": 11,
      "outputs": [
        {
          "output_type": "stream",
          "name": "stdout",
          "text": [
            "[[ 2 -1  3]\n",
            " [ 3  1  0]] \n",
            "\n",
            "[[ 2  1 -1]\n",
            " [ 0 -1  2]\n",
            " [ 3  2  0]]\n"
          ]
        }
      ]
    },
    {
      "cell_type": "code",
      "source": [
        "np.dot(X,Y)"
      ],
      "metadata": {
        "colab": {
          "base_uri": "https://localhost:8080/"
        },
        "id": "3HNuTTW2gErZ",
        "outputId": "a4dde654-1d55-4eed-f41b-1068fe649fc8"
      },
      "execution_count": 12,
      "outputs": [
        {
          "output_type": "execute_result",
          "data": {
            "text/plain": [
              "array([[13,  9, -4],\n",
              "       [ 6,  2, -1]])"
            ]
          },
          "metadata": {},
          "execution_count": 12
        }
      ]
    },
    {
      "cell_type": "markdown",
      "source": [
        "Wyznacznik macierzy"
      ],
      "metadata": {
        "id": "ccGcSqm0gZgi"
      }
    },
    {
      "cell_type": "code",
      "source": [
        "A = np.array([[2, 4], [-1, 3]])\n",
        "round(np.linalg.det(A))"
      ],
      "metadata": {
        "colab": {
          "base_uri": "https://localhost:8080/"
        },
        "id": "21DHZK5lgX7K",
        "outputId": "20134e7f-6ead-41cc-8c58-ec8844c81f54"
      },
      "execution_count": 13,
      "outputs": [
        {
          "output_type": "execute_result",
          "data": {
            "text/plain": [
              "10"
            ]
          },
          "metadata": {},
          "execution_count": 13
        }
      ]
    },
    {
      "cell_type": "markdown",
      "source": [
        "Ślad macierzy czyli suma elementów na przekątnej"
      ],
      "metadata": {
        "id": "lcbmySOwhYo4"
      }
    },
    {
      "cell_type": "code",
      "source": [
        "np.trace(A)"
      ],
      "metadata": {
        "colab": {
          "base_uri": "https://localhost:8080/"
        },
        "id": "tg2Eqq_2hcwG",
        "outputId": "61a33c9c-6574-413c-c08b-332280390b03"
      },
      "execution_count": 14,
      "outputs": [
        {
          "output_type": "execute_result",
          "data": {
            "text/plain": [
              "5"
            ]
          },
          "metadata": {},
          "execution_count": 14
        }
      ]
    },
    {
      "cell_type": "code",
      "source": [
        "np.eye(5, dtype = 'int') # macierz jednostkowa"
      ],
      "metadata": {
        "colab": {
          "base_uri": "https://localhost:8080/"
        },
        "id": "cdhBfN-Hhxwa",
        "outputId": "e0baf8b1-7e23-4602-ab0d-30138fa3f01c"
      },
      "execution_count": 15,
      "outputs": [
        {
          "output_type": "execute_result",
          "data": {
            "text/plain": [
              "array([[1, 0, 0, 0, 0],\n",
              "       [0, 1, 0, 0, 0],\n",
              "       [0, 0, 1, 0, 0],\n",
              "       [0, 0, 0, 1, 0],\n",
              "       [0, 0, 0, 0, 1]])"
            ]
          },
          "metadata": {},
          "execution_count": 15
        }
      ]
    },
    {
      "cell_type": "code",
      "source": [
        "B = np.linalg.inv(A) # Macierz odwrotna\n",
        "B"
      ],
      "metadata": {
        "colab": {
          "base_uri": "https://localhost:8080/"
        },
        "id": "HYazPztWh7mf",
        "outputId": "c43f87fa-d13d-4dee-facb-4d36bd5a090f"
      },
      "execution_count": 17,
      "outputs": [
        {
          "output_type": "execute_result",
          "data": {
            "text/plain": [
              "array([[ 0.3, -0.4],\n",
              "       [ 0.1,  0.2]])"
            ]
          },
          "metadata": {},
          "execution_count": 17
        }
      ]
    },
    {
      "cell_type": "code",
      "source": [
        "np.set_printoptions(precision=4, suppress=True) # USTAWIAMY ILOŚĆ MIEJSC PO PRZECINKU W YNIKACH LICZNONYCH PRZEZ BILIOTEKĘ NP\n",
        "\n",
        "np.dot(A, B)"
      ],
      "metadata": {
        "colab": {
          "base_uri": "https://localhost:8080/"
        },
        "id": "Xoy-NiCCijp3",
        "outputId": "29cf2251-d79d-40a9-e94b-9699b4c13d52"
      },
      "execution_count": 18,
      "outputs": [
        {
          "output_type": "execute_result",
          "data": {
            "text/plain": [
              "array([[1., 0.],\n",
              "       [0., 1.]])"
            ]
          },
          "metadata": {},
          "execution_count": 18
        }
      ]
    },
    {
      "cell_type": "code",
      "source": [
        "np.dot(B, A)"
      ],
      "metadata": {
        "colab": {
          "base_uri": "https://localhost:8080/"
        },
        "id": "Jbl4MVw1i77D",
        "outputId": "177de57d-f7eb-49c5-cb63-932d811befc5"
      },
      "execution_count": 19,
      "outputs": [
        {
          "output_type": "execute_result",
          "data": {
            "text/plain": [
              "array([[ 1., -0.],\n",
              "       [ 0.,  1.]])"
            ]
          },
          "metadata": {},
          "execution_count": 19
        }
      ]
    },
    {
      "cell_type": "markdown",
      "source": [
        "Macierz transponowana"
      ],
      "metadata": {
        "id": "seV2gJzfi_U_"
      }
    },
    {
      "cell_type": "code",
      "source": [
        "np.transpose(A) # macierz transponowana"
      ],
      "metadata": {
        "colab": {
          "base_uri": "https://localhost:8080/"
        },
        "id": "Hy9Oj_xVi9Er",
        "outputId": "cd13c24f-0a92-4834-e484-24e5fe1fc8f7"
      },
      "execution_count": 21,
      "outputs": [
        {
          "output_type": "execute_result",
          "data": {
            "text/plain": [
              "array([[ 2, -1],\n",
              "       [ 4,  3]])"
            ]
          },
          "metadata": {},
          "execution_count": 21
        }
      ]
    },
    {
      "cell_type": "code",
      "source": [
        "A.T"
      ],
      "metadata": {
        "colab": {
          "base_uri": "https://localhost:8080/"
        },
        "id": "we-X3rkejHG6",
        "outputId": "0701e861-8bb9-4996-e8a1-01269a4a4c31"
      },
      "execution_count": 22,
      "outputs": [
        {
          "output_type": "execute_result",
          "data": {
            "text/plain": [
              "array([[ 2, -1],\n",
              "       [ 4,  3]])"
            ]
          },
          "metadata": {},
          "execution_count": 22
        }
      ]
    },
    {
      "cell_type": "markdown",
      "source": [
        "Rozwiązywanie układów równań"
      ],
      "metadata": {
        "id": "t-hSTO7Bj_zq"
      }
    },
    {
      "cell_type": "code",
      "source": [
        "A = np.array([[2, 4], [1, -1]]) # macierz współczynników\n",
        "print(A)"
      ],
      "metadata": {
        "colab": {
          "base_uri": "https://localhost:8080/"
        },
        "id": "J_SqVyJ0j-XD",
        "outputId": "6b14ab7c-ace8-4c4a-f233-a4e4927c8db5"
      },
      "execution_count": 23,
      "outputs": [
        {
          "output_type": "stream",
          "name": "stdout",
          "text": [
            "[[ 2  4]\n",
            " [ 1 -1]]\n"
          ]
        }
      ]
    },
    {
      "cell_type": "code",
      "source": [
        "B = np.array([[10], [-1]]) # macierz wyrazów wolnych\n",
        "print(B)"
      ],
      "metadata": {
        "colab": {
          "base_uri": "https://localhost:8080/"
        },
        "id": "Me7IlgI4kIA2",
        "outputId": "3818f3e9-c820-4550-f4d8-f41d14759b43"
      },
      "execution_count": 26,
      "outputs": [
        {
          "output_type": "stream",
          "name": "stdout",
          "text": [
            "[[10]\n",
            " [-1]]\n"
          ]
        }
      ]
    },
    {
      "cell_type": "code",
      "source": [
        "A_inv = np.linalg.inv(A) # wyznaczamy macierz odwrotną\n",
        "X = np.dot(A_inv,B)\n",
        "X"
      ],
      "metadata": {
        "colab": {
          "base_uri": "https://localhost:8080/"
        },
        "id": "YnImPZ_dkaNV",
        "outputId": "778ac69d-9b14-4d84-dbf5-556cd8370553"
      },
      "execution_count": 27,
      "outputs": [
        {
          "output_type": "execute_result",
          "data": {
            "text/plain": [
              "array([[1.],\n",
              "       [2.]])"
            ]
          },
          "metadata": {},
          "execution_count": 27
        }
      ]
    }
  ]
}